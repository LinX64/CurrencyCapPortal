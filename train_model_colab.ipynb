{
 "cells": [
  {
   "cell_type": "markdown",
   "metadata": {
    "id": "header"
   },
   "source": [
    "# Currency Price Prediction - Model Training\n",
    "\n",
    "This notebook trains LSTM models for currency price prediction and saves them to Google Drive.\n",
    "\n",
    "**Features:**\n",
    "- GPU acceleration support\n",
    "- Google Drive integration for model persistence\n",
    "- Progress tracking and visualization\n",
    "- Batch training for all currencies"
   ]
  },
  {
   "cell_type": "markdown",
   "metadata": {
    "id": "setup"
   },
   "source": [
    "## 1. Setup Environment"
   ]
  },
  {
   "cell_type": "code",
   "execution_count": null,
   "metadata": {
    "id": "check_gpu"
   },
   "outputs": [],
   "source": [
    "# Check GPU availability\n",
    "import tensorflow as tf\n",
    "\n",
    "print(\"TensorFlow version:\", tf.__version__)\n",
    "print(\"GPU Available:\", tf.config.list_physical_devices('GPU'))\n",
    "\n",
    "if tf.config.list_physical_devices('GPU'):\n",
    "    print(\"\\n✓ GPU detected! Training will be accelerated.\")\n",
    "    for gpu in tf.config.list_physical_devices('GPU'):\n",
    "        print(f\"  Device: {gpu}\")\n",
    "else:\n",
    "    print(\"\\n⚠ No GPU detected. Training will use CPU (slower).\")\n",
    "    print(\"  To enable GPU: Runtime > Change runtime type > Hardware accelerator > GPU\")"
   ]
  },
  {
   "cell_type": "markdown",
   "metadata": {
    "id": "drive_mount"
   },
   "source": [
    "## 2. Mount Google Drive"
   ]
  },
  {
   "cell_type": "code",
   "execution_count": null,
   "metadata": {
    "id": "mount_drive"
   },
   "outputs": [],
   "source": [
    "from google.colab import drive\n",
    "import os\n",
    "\n",
    "# Mount Google Drive\n",
    "drive.mount('/content/drive')\n",
    "\n",
    "# Create directory for models in Drive\n",
    "drive_model_dir = '/content/drive/MyDrive/CurrencyCapPortal/models'\n",
    "os.makedirs(drive_model_dir, exist_ok=True)\n",
    "print(f\"\\n✓ Models will be saved to: {drive_model_dir}\")"
   ]
  },
  {
   "cell_type": "markdown",
   "metadata": {
    "id": "clone_repo"
   },
   "source": [
    "## 3. Clone Repository"
   ]
  },
  {
   "cell_type": "code",
   "execution_count": null,
   "metadata": {
    "id": "clone"
   },
   "outputs": [],
   "source": "# Clone your repository (update with your repo URL)\n# Option A: Clone from GitHub\n!git clone https://github.com/YOUR_USERNAME/CurrencyCapPortal.git\n%cd CurrencyCapPortal\n\n# Option B: If already cloned or using manual upload, just navigate\n# import os\n# if os.path.exists('CurrencyCapPortal'):\n#     %cd CurrencyCapPortal\n# else:\n#     print(\"Repository not found. Please upload files manually or update GitHub URL above.\")\n\n# Verify the ml module exists\nimport os\nif os.path.exists('ml/predictor.py'):\n    print(\"✓ Found ml/predictor.py\")\nelse:\n    print(\"✗ ml/predictor.py not found!\")\n    print(\"Current directory:\", os.getcwd())\n    print(\"\\nPlease either:\")\n    print(\"1. Update the GitHub URL above and re-run this cell\")\n    print(\"2. Or use manual file upload (see COLAB_SETUP.md)\")"
  },
  {
   "cell_type": "code",
   "source": "# # MANUAL UPLOAD OPTION - Uncomment to use\n# from google.colab import files\n# import os\n# import zipfile\n\n# print(\"Upload your CurrencyCapPortal project as a ZIP file\")\n# print(\"(Right-click your project folder > Compress to create a zip)\")\n# print()\n\n# uploaded = files.upload()\n\n# # Extract the zip\n# for filename in uploaded.keys():\n#     print(f\"Extracting {filename}...\")\n#     !unzip -q {filename}\n    \n# # Navigate to the project directory\n# project_dirs = [d for d in os.listdir('.') if os.path.isdir(d) and d != 'sample_data']\n# if project_dirs:\n#     %cd {project_dirs[0]}\n#     print(f\"✓ Navigated to {project_dirs[0]}\")\n#     !ls -la\n# else:\n#     print(\"✗ Could not find project directory\")",
   "metadata": {},
   "execution_count": null,
   "outputs": []
  },
  {
   "cell_type": "markdown",
   "source": "## 3A. Alternative: Manual File Upload\n\nIf you don't have your code on GitHub, uncomment and run this cell instead of Cell 3:",
   "metadata": {}
  },
  {
   "cell_type": "markdown",
   "metadata": {
    "id": "install_deps"
   },
   "source": [
    "## 4. Install Dependencies"
   ]
  },
  {
   "cell_type": "code",
   "execution_count": null,
   "metadata": {
    "id": "install"
   },
   "outputs": [],
   "source": "# Install required packages (suppress dependency warnings)\n!pip install -q -r requirements.txt 2>&1 | grep -v \"dependency conflicts\" || true\n!pip install -q jedi  # Fix ipython autocomplete dependency\n\nprint(\"✓ Dependencies installed\")"
  },
  {
   "cell_type": "markdown",
   "metadata": {
    "id": "training_functions"
   },
   "source": [
    "## 5. Training Functions"
   ]
  },
  {
   "cell_type": "code",
   "execution_count": null,
   "metadata": {
    "id": "functions"
   },
   "outputs": [],
   "source": [
    "import json\n",
    "import shutil\n",
    "from datetime import datetime\n",
    "from ml.predictor import CurrencyPredictor\n",
    "\n",
    "# Configuration\n",
    "DRIVE_MODEL_DIR = '/content/drive/MyDrive/CurrencyCapPortal/models'\n",
    "LOCAL_MODEL_DIR = 'models'\n",
    "\n",
    "def train_single_currency(currency_code: str, epochs: int = 100, save_to_drive: bool = True):\n",
    "    \"\"\"Train model for a single currency and optionally save to Drive.\"\"\"\n",
    "    print(f\"\\n{'='*60}\")\n",
    "    print(f\"Training model for {currency_code.upper()}\")\n",
    "    print(f\"{'='*60}\\n\")\n",
    "    \n",
    "    predictor = CurrencyPredictor(currency_code=currency_code)\n",
    "    \n",
    "    try:\n",
    "        # Train the model\n",
    "        metrics = predictor.train_model(epochs=epochs)\n",
    "        \n",
    "        # Save to Google Drive\n",
    "        if save_to_drive:\n",
    "            local_model_path = f'{LOCAL_MODEL_DIR}/{currency_code}_model.keras'\n",
    "            drive_model_path = f'{DRIVE_MODEL_DIR}/{currency_code}_model.keras'\n",
    "            \n",
    "            if os.path.exists(local_model_path):\n",
    "                shutil.copy2(local_model_path, drive_model_path)\n",
    "                print(f\"✓ Model saved to Google Drive: {drive_model_path}\")\n",
    "        \n",
    "        print(f\"\\n✓ Successfully trained {currency_code.upper()} model\")\n",
    "        print(f\"  Final Loss: {metrics.get('loss', 'N/A'):.4f}\" if isinstance(metrics.get('loss'), float) else \"\")\n",
    "        \n",
    "        return True, metrics\n",
    "    except Exception as e:\n",
    "        print(f\"\\n✗ Failed to train {currency_code.upper()} model: {e}\")\n",
    "        return False, None\n",
    "\n",
    "\n",
    "def train_all_currencies(epochs: int = 100, save_to_drive: bool = True):\n",
    "    \"\"\"Train models for all available currencies.\"\"\"\n",
    "    with open('api/latest.json', 'r', encoding='utf-8') as f:\n",
    "        data = json.load(f)\n",
    "    \n",
    "    currencies = [item['ab'] for item in data]\n",
    "    print(f\"Found {len(currencies)} currencies to train\")\n",
    "    print(f\"Epochs per currency: {epochs}\\n\")\n",
    "    \n",
    "    results = {}\n",
    "    training_log = []\n",
    "    \n",
    "    start_time = datetime.now()\n",
    "    \n",
    "    for idx, currency in enumerate(currencies, 1):\n",
    "        print(f\"\\n[{idx}/{len(currencies)}] Processing {currency.upper()}...\")\n",
    "        \n",
    "        success, metrics = train_single_currency(currency, epochs, save_to_drive)\n",
    "        results[currency] = success\n",
    "        \n",
    "        training_log.append({\n",
    "            'currency': currency,\n",
    "            'success': success,\n",
    "            'metrics': metrics,\n",
    "            'timestamp': datetime.now().isoformat()\n",
    "        })\n",
    "    \n",
    "    end_time = datetime.now()\n",
    "    duration = end_time - start_time\n",
    "    \n",
    "    # Print summary\n",
    "    print(f\"\\n{'='*60}\")\n",
    "    print(\"Training Summary\")\n",
    "    print(f\"{'='*60}\")\n",
    "    successful = sum(1 for v in results.values() if v)\n",
    "    print(f\"Successful: {successful}/{len(results)}\")\n",
    "    print(f\"Failed: {len(results) - successful}/{len(results)}\")\n",
    "    print(f\"Total time: {duration}\")\n",
    "    \n",
    "    if successful < len(results):\n",
    "        print(\"\\nFailed currencies:\")\n",
    "        for currency, success in results.items():\n",
    "            if not success:\n",
    "                print(f\"  - {currency}\")\n",
    "    \n",
    "    # Save training log to Drive\n",
    "    if save_to_drive:\n",
    "        log_path = f'{DRIVE_MODEL_DIR}/training_log_{datetime.now().strftime(\"%Y%m%d_%H%M%S\")}.json'\n",
    "        with open(log_path, 'w') as f:\n",
    "            json.dump(training_log, f, indent=2)\n",
    "        print(f\"\\n✓ Training log saved to: {log_path}\")\n",
    "    \n",
    "    return results, training_log\n",
    "\n",
    "\n",
    "print(\"✓ Training functions loaded\")"
   ]
  },
  {
   "cell_type": "markdown",
   "metadata": {
    "id": "train_single"
   },
   "source": [
    "## 6. Train Single Currency\n",
    "\n",
    "Use this cell to train a model for a specific currency."
   ]
  },
  {
   "cell_type": "code",
   "execution_count": null,
   "metadata": {
    "id": "train_one"
   },
   "outputs": [],
   "source": [
    "# Configure training\n",
    "CURRENCY = 'usd'  # Change this to your desired currency\n",
    "EPOCHS = 100       # Adjust number of epochs\n",
    "\n",
    "# Train the model\n",
    "success, metrics = train_single_currency(CURRENCY, epochs=EPOCHS, save_to_drive=True)\n",
    "\n",
    "if success:\n",
    "    print(f\"\\n🎉 Training completed successfully!\")\n",
    "    print(f\"Model saved to Google Drive\")"
   ]
  },
  {
   "cell_type": "markdown",
   "metadata": {
    "id": "train_all"
   },
   "source": [
    "## 7. Train All Currencies (Batch Mode)\n",
    "\n",
    "⚠️ **Warning:** This will train models for ALL currencies, which may take several hours.\n",
    "\n",
    "Make sure you have:\n",
    "- GPU enabled\n",
    "- Sufficient Colab runtime (consider Colab Pro for longer sessions)"
   ]
  },
  {
   "cell_type": "code",
   "execution_count": null,
   "metadata": {
    "id": "train_batch"
   },
   "outputs": [],
   "source": [
    "# Configure batch training\n",
    "EPOCHS = 100  # Epochs per currency\n",
    "\n",
    "# Train all currencies\n",
    "results, training_log = train_all_currencies(epochs=EPOCHS, save_to_drive=True)\n",
    "\n",
    "print(\"\\n🎉 Batch training completed!\")\n",
    "print(\"All models saved to Google Drive\")"
   ]
  },
  {
   "cell_type": "markdown",
   "metadata": {
    "id": "visualize"
   },
   "source": [
    "## 8. Visualize Training Results (Optional)"
   ]
  },
  {
   "cell_type": "code",
   "execution_count": null,
   "metadata": {
    "id": "viz"
   },
   "outputs": [],
   "source": [
    "import matplotlib.pyplot as plt\n",
    "\n",
    "# Example: Visualize training history for a specific currency\n",
    "CURRENCY = 'usd'\n",
    "\n",
    "predictor = CurrencyPredictor(currency_code=CURRENCY)\n",
    "\n",
    "# You can add visualization code here if your predictor stores history\n",
    "print(f\"Visualization for {CURRENCY.upper()}\")\n",
    "print(\"Add custom visualization code based on your training metrics\")"
   ]
  },
  {
   "cell_type": "markdown",
   "metadata": {
    "id": "download"
   },
   "source": [
    "## 9. Download Models to Local Machine (Optional)\n",
    "\n",
    "If you want to download trained models directly to your computer:"
   ]
  },
  {
   "cell_type": "code",
   "execution_count": null,
   "metadata": {
    "id": "download_models"
   },
   "outputs": [],
   "source": [
    "from google.colab import files\n",
    "import zipfile\n",
    "\n",
    "# Zip all models\n",
    "!zip -r models.zip models/\n",
    "\n",
    "# Download the zip file\n",
    "files.download('models.zip')\n",
    "print(\"✓ Models downloaded\")"
   ]
  },
  {
   "cell_type": "markdown",
   "metadata": {
    "id": "notes"
   },
   "source": [
    "## Notes\n",
    "\n",
    "### GPU Usage\n",
    "- Enable GPU: `Runtime > Change runtime type > Hardware accelerator > GPU`\n",
    "- Free tier: T4 GPU (limited hours per day)\n",
    "- Colab Pro: More GPU time + better GPUs (V100, A100)\n",
    "\n",
    "### Model Persistence\n",
    "- Models are automatically saved to Google Drive\n",
    "- Location: `/MyDrive/CurrencyCapPortal/models/`\n",
    "- Training logs include timestamps and metrics\n",
    "\n",
    "### Memory Management\n",
    "- Free Colab: ~12GB RAM\n",
    "- If you run out of memory, try:\n",
    "  - Reducing batch size in your model\n",
    "  - Training fewer currencies at once\n",
    "  - Restarting runtime between training sessions\n",
    "\n",
    "### Session Timeout\n",
    "- Free Colab: 12 hours max, 90 min idle timeout\n",
    "- Keep browser tab active to prevent disconnection\n",
    "- Consider Colab Pro for 24-hour sessions"
   ]
  }
 ],
 "metadata": {
  "accelerator": "GPU",
  "colab": {
   "name": "CurrencyCapPortal - Model Training",
   "provenance": [],
   "gpuType": "T4"
  },
  "kernelspec": {
   "display_name": "Python 3",
   "name": "python3"
  }
 },
 "nbformat": 4,
 "nbformat_minor": 0
}